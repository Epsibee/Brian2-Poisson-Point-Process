{
 "cells": [
  {
   "cell_type": "code",
   "execution_count": 1,
   "id": "fdb7ca34-9916-40b0-b93b-ff4534993bef",
   "metadata": {},
   "outputs": [],
   "source": [
    "import numpy as np\n",
    "import brian2 as b2\n",
    "from scipy.stats import poisson, binom\n",
    "import matplotlib.pyplot as plt\n",
    "import pickle\n",
    "import os\n",
    "%run poisson_processes.ipynb"
   ]
  },
  {
   "cell_type": "code",
   "execution_count": 2,
   "id": "99cbe7ab-f4e1-40b1-bd1a-94d9f4a7060c",
   "metadata": {},
   "outputs": [],
   "source": [
    "# Parameters\n",
    "num_neurons = 3\n",
    "rate = 10\n",
    "time = 1000\n",
    "num_common = 2\n",
    "num_samples = 10 #later set this to 10, then 100. 1 lets there be one replicate"
   ]
  },
  {
   "cell_type": "code",
   "execution_count": 3,
   "id": "c4b3fad8-d294-425e-80d0-8d5391fa3cef",
   "metadata": {},
   "outputs": [],
   "source": [
    "data_dict = {}"
   ]
  },
  {
   "cell_type": "code",
   "execution_count": 4,
   "id": "eb0ebd90-5009-4794-8bf5-a38bee3a6c83",
   "metadata": {},
   "outputs": [
    {
     "ename": "IndexError",
     "evalue": "index 1008 is out of bounds for axis 2 with size 1000",
     "output_type": "error",
     "traceback": [
      "\u001b[1;31m---------------------------------------------------------------------------\u001b[0m",
      "\u001b[1;31mIndexError\u001b[0m                                Traceback (most recent call last)",
      "Cell \u001b[1;32mIn[4], line 1\u001b[0m\n\u001b[1;32m----> 1\u001b[0m processes \u001b[38;5;241m=\u001b[39m independent_poisson_processes(num_neurons, rate, time, num_samples)\n",
      "File \u001b[1;32m~\\AppData\\Local\\Temp\\ipykernel_25064\\151808706.py:30\u001b[0m, in \u001b[0;36mindependent_poisson_processes\u001b[1;34m(num_neurons, rate, time, num_samples)\u001b[0m\n\u001b[0;32m     27\u001b[0m     spike_indices \u001b[38;5;241m=\u001b[39m np\u001b[38;5;241m.\u001b[39marray([np\u001b[38;5;241m.\u001b[39mfloor(t \u001b[38;5;241m/\u001b[39m b2\u001b[38;5;241m.\u001b[39mms) \u001b[38;5;28;01mfor\u001b[39;00m t \u001b[38;5;129;01min\u001b[39;00m spike_trains[\u001b[38;5;241m0\u001b[39m] \u001b[38;5;28;01mif\u001b[39;00m t \u001b[38;5;241m<\u001b[39m simulation_time])\n\u001b[0;32m     29\u001b[0m     \u001b[38;5;66;03m# Mark spike occurrences in the processes array\u001b[39;00m\n\u001b[1;32m---> 30\u001b[0m     processes[sample, \u001b[38;5;241m0\u001b[39m, spike_indices\u001b[38;5;241m.\u001b[39mastype(\u001b[38;5;28mint\u001b[39m)] \u001b[38;5;241m=\u001b[39m \u001b[38;5;241m1\u001b[39m\n\u001b[0;32m     32\u001b[0m \u001b[38;5;28;01mreturn\u001b[39;00m processes\n",
      "\u001b[1;31mIndexError\u001b[0m: index 1008 is out of bounds for axis 2 with size 1000"
     ]
    }
   ],
   "source": [
    "processes = independent_poisson_processes(num_neurons, rate, time, num_samples)"
   ]
  },
  {
   "cell_type": "code",
   "execution_count": null,
   "id": "ea15a44b-5a64-43a1-8d03-be8c6b75f8d3",
   "metadata": {},
   "outputs": [],
   "source": [
    "print(processes.shape)  # Should output (10, 3, 1000)"
   ]
  },
  {
   "cell_type": "code",
   "execution_count": null,
   "id": "201e1339-8a56-4763-bc77-642be5dcb8c9",
   "metadata": {},
   "outputs": [],
   "source": [
    "correlated_processes = correlated_poisson_processes(num_neurons, rate, time, num_common, num_samples)"
   ]
  },
  {
   "cell_type": "code",
   "execution_count": null,
   "id": "ad979164-69dc-42ef-b3c6-6bab3c1e4d18",
   "metadata": {},
   "outputs": [],
   "source": [
    "print(correlated_processes.shape)"
   ]
  },
  {
   "cell_type": "code",
   "execution_count": null,
   "id": "dffcb741-40bd-4413-9f19-e54f930f322f",
   "metadata": {},
   "outputs": [],
   "source": [
    "# network_spike_times = small_network(num_neurons, rate, time)"
   ]
  },
  {
   "cell_type": "code",
   "execution_count": null,
   "id": "fd12666c-5844-4dc2-b0e9-ccf18d2cf484",
   "metadata": {},
   "outputs": [],
   "source": [
    "counting_process_nd_result = counting_process_nd(processes, num_samples, time, 2)"
   ]
  },
  {
   "cell_type": "code",
   "execution_count": null,
   "id": "fa925947-7da6-468a-b8bd-78712c037772",
   "metadata": {},
   "outputs": [],
   "source": [
    "data_dict = {\n",
    "    'processes': processes,\n",
    "    'correlated_processes': correlated_processes,\n",
    "    'counting_process_nd_result': counting_process_nd_result\n",
    "}"
   ]
  },
  {
   "cell_type": "code",
   "execution_count": null,
   "id": "4471a9d4-7e39-4a3a-b499-6894c95bd0e8",
   "metadata": {},
   "outputs": [],
   "source": [
    "    # Save the data\n",
    "    data_dir = 'data'\n",
    "    os.makedirs(data_dir, exist_ok=True)"
   ]
  },
  {
   "cell_type": "code",
   "execution_count": null,
   "id": "607c4fbd-8e5e-4e3f-a3e3-c95759eb80d9",
   "metadata": {},
   "outputs": [],
   "source": [
    "with open(os.path.join(data_dir, 'data_dict.pkl'), 'wb') as f:\n",
    "    pickle.dump(data_dict, f)"
   ]
  },
  {
   "cell_type": "code",
   "execution_count": null,
   "id": "61385bb2-f0c2-4c70-8bfe-0523857f8ab8",
   "metadata": {},
   "outputs": [],
   "source": []
  }
 ],
 "metadata": {
  "kernelspec": {
   "display_name": "Python [conda env:base] *",
   "language": "python",
   "name": "conda-base-py"
  },
  "language_info": {
   "codemirror_mode": {
    "name": "ipython",
    "version": 3
   },
   "file_extension": ".py",
   "mimetype": "text/x-python",
   "name": "python",
   "nbconvert_exporter": "python",
   "pygments_lexer": "ipython3",
   "version": "3.12.7"
  }
 },
 "nbformat": 4,
 "nbformat_minor": 5
}
